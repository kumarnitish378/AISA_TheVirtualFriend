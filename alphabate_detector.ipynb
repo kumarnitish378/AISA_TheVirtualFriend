{
  "nbformat": 4,
  "nbformat_minor": 0,
  "metadata": {
    "colab": {
      "provenance": [],
      "collapsed_sections": [],
      "authorship_tag": "ABX9TyOda3hFhLumhzHvlC7R9bLD",
      "include_colab_link": true
    },
    "kernelspec": {
      "name": "python3",
      "display_name": "Python 3"
    },
    "language_info": {
      "name": "python"
    },
    "accelerator": "GPU",
    "gpuClass": "standard"
  },
  "cells": [
    {
      "cell_type": "markdown",
      "metadata": {
        "id": "view-in-github",
        "colab_type": "text"
      },
      "source": [
        "<a href=\"https://colab.research.google.com/github/kumarnitish378/AISA_TheVirtualFriend/blob/master/alphabate_detector.ipynb\" target=\"_parent\"><img src=\"https://colab.research.google.com/assets/colab-badge.svg\" alt=\"Open In Colab\"/></a>"
      ]
    },
    {
      "cell_type": "code",
      "execution_count": 4,
      "metadata": {
        "id": "3di1IZl9dhFX"
      },
      "outputs": [],
      "source": [
        "import numpy as np\n",
        "import cv2\n",
        "from random import randint, random\n",
        "from scipy import signal\n",
        "np.random.seed(5)\n",
        "\n",
        "size = (64, 64, 3)\n"
      ]
    },
    {
      "cell_type": "code",
      "source": [
        "import matplotlib.pyplot as plt"
      ],
      "metadata": {
        "id": "Y4_llP3reEuz"
      },
      "execution_count": 5,
      "outputs": []
    },
    {
      "cell_type": "code",
      "source": [
        "from random import choice"
      ],
      "metadata": {
        "id": "EKHJxLlJfY-s"
      },
      "execution_count": 6,
      "outputs": []
    },
    {
      "cell_type": "code",
      "source": [
        "alpha = [ i for i in \"abcdefghijklmnopqrstuvwxyz\"]"
      ],
      "metadata": {
        "id": "lN4jwrRZeaZL"
      },
      "execution_count": 101,
      "outputs": []
    },
    {
      "cell_type": "code",
      "source": [
        "choice(alpha)"
      ],
      "metadata": {
        "colab": {
          "base_uri": "https://localhost:8080/",
          "height": 35
        },
        "id": "tqo518NTffoR",
        "outputId": "3394f8a2-6423-4bad-835b-1f3e03cec059"
      },
      "execution_count": 102,
      "outputs": [
        {
          "output_type": "execute_result",
          "data": {
            "text/plain": [
              "'q'"
            ],
            "application/vnd.google.colaboratory.intrinsic+json": {
              "type": "string"
            }
          },
          "metadata": {},
          "execution_count": 102
        }
      ]
    },
    {
      "cell_type": "code",
      "source": [
        "xtrain = []\n",
        "ytrain = []\n",
        "for i in range(10000):\n",
        "    flag = randint(0,1)\n",
        "\n",
        "    stx = randint(0, 30)\n",
        "    sty = randint(35, 60)\n",
        "\n",
        "    org = (stx, sty)\n",
        "    color = (randint(2, 5), randint(2, 5), randint(2, 5))\n",
        "    thickness = 2 #randint(2, 5)\n",
        "    font = cv2.FONT_HERSHEY_SIMPLEX\n",
        "    fontScale = 2 # randint(1,5)\n",
        "    text = choice(alpha)\n",
        "    # print(text)\n",
        "\n",
        "    img = np.ones(size)*255\n",
        "    img = cv2.putText(img, text, org, font, fontScale, color, thickness, cv2.LINE_AA)\n",
        "    img_float32 = np.float32(img)\n",
        "    gray = cv2.cvtColor(img_float32, cv2.COLOR_BGR2GRAY)\n",
        "    # print(gray.shape)\n",
        "    kernal = np.random.random((3,3))\n",
        "    if flag == 1:\n",
        "        gray = signal.convolve2d(gray, kernal, \"same\")\n",
        "        # print(\"CNVo\")\n",
        "    xtrain.append(gray)\n",
        "    ytrain.append(alpha.index(text))\n",
        "    # cv2.imwrite(\"/content/test/{}_{}.png\".format(i, text), gray)\n",
        "\n",
        "xtrain = np.array(xtrain)\n",
        "ytrain = np.array(ytrain)\n",
        "plt.imshow(gray, cmap='gray')"
      ],
      "metadata": {
        "colab": {
          "base_uri": "https://localhost:8080/",
          "height": 285
        },
        "cellView": "code",
        "id": "DI9ZHUA2doZd",
        "outputId": "5afd83da-1b5d-4497-b1a9-79d342a4b1bf"
      },
      "execution_count": 103,
      "outputs": [
        {
          "output_type": "execute_result",
          "data": {
            "text/plain": [
              "<matplotlib.image.AxesImage at 0x7f3526e88f50>"
            ]
          },
          "metadata": {},
          "execution_count": 103
        },
        {
          "output_type": "display_data",
          "data": {
            "text/plain": [
              "<Figure size 432x288 with 1 Axes>"
            ],
            "image/png": "[encoded data removed]"
          },
          "metadata": {
            "needs_background": "light"
          }
        }
      ]
    },
    {
      "cell_type": "code",
      "source": [
        "alpha.index(\"Q\")"
      ],
      "metadata": {
        "colab": {
          "base_uri": "https://localhost:8080/",
          "height": 165
        },
        "id": "_NBpmDi4nDyc",
        "outputId": "3536978b-0a18-4c21-88c2-4dbce01f3a08"
      },
      "execution_count": 104,
      "outputs": [
        {
          "output_type": "error",
          "ename": "ValueError",
          "evalue": "ignored",
          "traceback": [
            "\u001b[0;31m---------------------------------------------------------------------------\u001b[0m",
            "\u001b[0;31mValueError\u001b[0m                                Traceback (most recent call last)",
            "\u001b[0;32m<ipython-input-104-e2beb084ed86>\u001b[0m in \u001b[0;36m<module>\u001b[0;34m\u001b[0m\n\u001b[0;32m----> 1\u001b[0;31m \u001b[0malpha\u001b[0m\u001b[0;34m.\u001b[0m\u001b[0mindex\u001b[0m\u001b[0;34m(\u001b[0m\u001b[0;34m\"Q\"\u001b[0m\u001b[0;34m)\u001b[0m\u001b[0;34m\u001b[0m\u001b[0;34m\u001b[0m\u001b[0m\n\u001b[0m",
            "\u001b[0;31mValueError\u001b[0m: 'Q' is not in list"
          ]
        }
      ]
    },
    {
      "cell_type": "code",
      "source": [
        "xtest = []\n",
        "ytest = []\n",
        "for i in range(1000):\n",
        "    flag = randint(0,1)\n",
        "\n",
        "    stx = randint(0, 30)\n",
        "    sty = randint(30, 60)\n",
        "\n",
        "    org = (stx, sty)\n",
        "    color = (randint(2, 5), randint(2, 5), randint(2, 5))\n",
        "    thickness = 2 #randint(2, 5)\n",
        "    font = cv2.FONT_HERSHEY_SIMPLEX\n",
        "    fontScale = 2 # randint(1,5)\n",
        "    text = choice(alpha)\n",
        "    # print(text)\n",
        "\n",
        "    img = np.ones(size)*255\n",
        "    img = cv2.putText(img, text, org, font, fontScale, color, thickness, cv2.LINE_AA)\n",
        "    img_float32 = np.float32(img)\n",
        "    gray = cv2.cvtColor(img_float32, cv2.COLOR_BGR2GRAY)\n",
        "    # print(gray.shape)\n",
        "    kernal = np.random.random((3,3))\n",
        "    if flag == 1:\n",
        "        gray = signal.convolve2d(gray, kernal, \"same\")\n",
        "        # print(\"CNVo\")\n",
        "    xtest.append(gray)\n",
        "    ytest.append(alpha.index(text))\n",
        "    # cv2.imwrite(\"/content/test/{}_{}.png\".format(i, text), gray)\n",
        "\n",
        "xtest = np.array(xtest)\n",
        "ytest = np.array(ytest)\n",
        "plt.imshow(gray, cmap='gray')"
      ],
      "metadata": {
        "colab": {
          "base_uri": "https://localhost:8080/",
          "height": 285
        },
        "id": "fsPRlCTkd-Ll",
        "outputId": "b7d6c9e0-3f7b-4be0-ee7c-6567ad8c52d3"
      },
      "execution_count": 105,
      "outputs": [
        {
          "output_type": "execute_result",
          "data": {
            "text/plain": [
              "<matplotlib.image.AxesImage at 0x7f3526e4d910>"
            ]
          },
          "metadata": {},
          "execution_count": 105
        },
        {
          "output_type": "display_data",
          "data": {
            "text/plain": [
              "<Figure size 432x288 with 1 Axes>"
            ],
            "image/png": "[encoded data removed]"
          },
          "metadata": {
            "needs_background": "light"
          }
        }
      ]
    },
    {
      "cell_type": "code",
      "source": [
        "xtrain, xtest = xtrain/255, xtest/255"
      ],
      "metadata": {
        "id": "vaE7wCs-0D8V"
      },
      "execution_count": 106,
      "outputs": []
    },
    {
      "cell_type": "code",
      "source": [],
      "metadata": {
        "id": "bk8v3sJX0De6"
      },
      "execution_count": 106,
      "outputs": []
    },
    {
      "cell_type": "code",
      "source": [
        "xtrain.shape"
      ],
      "metadata": {
        "colab": {
          "base_uri": "https://localhost:8080/"
        },
        "id": "xobAXdDmeAxa",
        "outputId": "ff0e207a-f251-44f1-bf37-19e17bf50d25"
      },
      "execution_count": 107,
      "outputs": [
        {
          "output_type": "execute_result",
          "data": {
            "text/plain": [
              "(10000, 64, 64)"
            ]
          },
          "metadata": {},
          "execution_count": 107
        }
      ]
    },
    {
      "cell_type": "markdown",
      "source": [
        "# Deep Learning Model"
      ],
      "metadata": {
        "id": "rqg9xpCd8BTC"
      }
    },
    {
      "cell_type": "code",
      "source": [
        "import tensorflow as tf"
      ],
      "metadata": {
        "id": "aPce2aDpn6EL"
      },
      "execution_count": 108,
      "outputs": []
    },
    {
      "cell_type": "code",
      "source": [
        "def create_classical_model():\n",
        "    # A simple model based off LeNet from https://keras.io/examples/mnist_cnn/\n",
        "    model = tf.keras.Sequential()\n",
        "    model.add(tf.keras.layers.Conv2D(128, [3, 3], activation='relu', input_shape=(64,64,1)))\n",
        "    model.add(tf.keras.layers.MaxPooling2D(pool_size=(2, 2)))\n",
        "    model.add(tf.keras.layers.Conv2D(64, [3, 3], activation='relu'))\n",
        "    model.add(tf.keras.layers.MaxPooling2D(pool_size=(2, 2)))\n",
        "    model.add(tf.keras.layers.Dropout(0.25))\n",
        "\n",
        "    # model.add(tf.keras.layers.Conv2D(32, [2, 2], activation='relu'))\n",
        "    # model.add(tf.keras.layers.MaxPooling2D(pool_size=(2, 2)))\n",
        "    # model.add(tf.keras.layers.Dropout(0.15))\n",
        "\n",
        "    model.add(tf.keras.layers.Flatten())\n",
        "    model.add(tf.keras.layers.Dense(128, activation='relu'))\n",
        "    model.add(tf.keras.layers.Dense(64, activation='relu'))\n",
        "    model.add(tf.keras.layers.Dense(32, activation='relu'))\n",
        "    model.add(tf.keras.layers.Dropout(0.1))\n",
        "    model.add(tf.keras.layers.Dense(32, activation='relu'))\n",
        "    model.add(tf.keras.layers.Dense(26, activation='softmax'))\n",
        "    return model\n",
        "\n",
        "\n",
        "model = create_classical_model()\n",
        "model.compile(loss='sparse_categorical_crossentropy',\n",
        "              optimizer=tf.keras.optimizers.Adam(),\n",
        "              metrics=['accuracy'])\n",
        "\n",
        "model.summary()"
      ],
      "metadata": {
        "colab": {
          "base_uri": "https://localhost:8080/"
        },
        "id": "IvROT4NnmiVt",
        "outputId": "d56aef1f-f887-4adf-ba62-9d292b46e1aa"
      },
      "execution_count": 109,
      "outputs": [
        {
          "output_type": "stream",
          "name": "stdout",
          "text": [
            "Model: \"sequential_7\"\n",
            "_________________________________________________________________\n",
            " Layer (type)                Output Shape              Param #   \n",
            "=================================================================\n",
            " conv2d_15 (Conv2D)          (None, 62, 62, 128)       1280      \n",
            "                                                                 \n",
            " max_pooling2d_15 (MaxPoolin  (None, 31, 31, 128)      0         \n",
            " g2D)                                                            \n",
            "                                                                 \n",
            " conv2d_16 (Conv2D)          (None, 29, 29, 64)        73792     \n",
            "                                                                 \n",
            " max_pooling2d_16 (MaxPoolin  (None, 14, 14, 64)       0         \n",
            " g2D)                                                            \n",
            "                                                                 \n",
            " dropout_15 (Dropout)        (None, 14, 14, 64)        0         \n",
            "                                                                 \n",
            " flatten_7 (Flatten)         (None, 12544)             0         \n",
            "                                                                 \n",
            " dense_33 (Dense)            (None, 128)               1605760   \n",
            "                                                                 \n",
            " dense_34 (Dense)            (None, 64)                8256      \n",
            "                                                                 \n",
            " dense_35 (Dense)            (None, 32)                2080      \n",
            "                                                                 \n",
            " dropout_16 (Dropout)        (None, 32)                0         \n",
            "                                                                 \n",
            " dense_36 (Dense)            (None, 32)                1056      \n",
            "                                                                 \n",
            " dense_37 (Dense)            (None, 26)                858       \n",
            "                                                                 \n",
            "=================================================================\n",
            "Total params: 1,693,082\n",
            "Trainable params: 1,693,082\n",
            "Non-trainable params: 0\n",
            "_________________________________________________________________\n"
          ]
        }
      ]
    },
    {
      "cell_type": "code",
      "source": [
        "history = model.fit(xtrain, ytrain, epochs=50, batch_size=12, validation_data=(xtest, ytest))"
      ],
      "metadata": {
        "colab": {
          "base_uri": "https://localhost:8080/"
        },
        "id": "lZYLP5dwoGEb",
        "outputId": "3c69e350-a2d9-421a-ad90-ab09087a6629"
      },
      "execution_count": 123,
      "outputs": [
        {
          "output_type": "stream",
          "name": "stdout",
          "text": [
            "Epoch 1/50\n",
            "834/834 [==============================] - 5s 6ms/step - loss: 0.0271 - accuracy: 0.9915 - val_loss: 0.9569 - val_accuracy: 0.9040\n",
            "Epoch 2/50\n",
            "834/834 [==============================] - 5s 6ms/step - loss: 0.0165 - accuracy: 0.9936 - val_loss: 1.3052 - val_accuracy: 0.9050\n",
            "Epoch 3/50\n",
            "834/834 [==============================] - 5s 6ms/step - loss: 0.0444 - accuracy: 0.9876 - val_loss: 1.1221 - val_accuracy: 0.9100\n",
            "Epoch 4/50\n",
            "834/834 [==============================] - 5s 6ms/step - loss: 0.0402 - accuracy: 0.9885 - val_loss: 0.8748 - val_accuracy: 0.9090\n",
            "Epoch 5/50\n",
            "834/834 [==============================] - 5s 6ms/step - loss: 0.0421 - accuracy: 0.9886 - val_loss: 1.1317 - val_accuracy: 0.9030\n",
            "Epoch 6/50\n",
            "834/834 [==============================] - 5s 6ms/step - loss: 0.0200 - accuracy: 0.9926 - val_loss: 1.1110 - val_accuracy: 0.9090\n",
            "Epoch 7/50\n",
            "834/834 [==============================] - 5s 6ms/step - loss: 0.0248 - accuracy: 0.9915 - val_loss: 1.2723 - val_accuracy: 0.9090\n",
            "Epoch 8/50\n",
            "834/834 [==============================] - 5s 6ms/step - loss: 0.0293 - accuracy: 0.9910 - val_loss: 1.4920 - val_accuracy: 0.8980\n",
            "Epoch 9/50\n",
            "834/834 [==============================] - 5s 6ms/step - loss: 0.0384 - accuracy: 0.9889 - val_loss: 1.4551 - val_accuracy: 0.9030\n",
            "Epoch 10/50\n",
            "834/834 [==============================] - 5s 6ms/step - loss: 0.0261 - accuracy: 0.9920 - val_loss: 1.8964 - val_accuracy: 0.8850\n",
            "Epoch 11/50\n",
            "834/834 [==============================] - 5s 6ms/step - loss: 0.0247 - accuracy: 0.9917 - val_loss: 1.6492 - val_accuracy: 0.9030\n",
            "Epoch 12/50\n",
            "834/834 [==============================] - 5s 6ms/step - loss: 0.0240 - accuracy: 0.9934 - val_loss: 1.0561 - val_accuracy: 0.9140\n",
            "Epoch 13/50\n",
            "834/834 [==============================] - 5s 6ms/step - loss: 0.0209 - accuracy: 0.9937 - val_loss: 1.2794 - val_accuracy: 0.9090\n",
            "Epoch 14/50\n",
            "834/834 [==============================] - 5s 6ms/step - loss: 0.0256 - accuracy: 0.9925 - val_loss: 1.3866 - val_accuracy: 0.8980\n",
            "Epoch 15/50\n",
            "834/834 [==============================] - 5s 6ms/step - loss: 0.0292 - accuracy: 0.9913 - val_loss: 1.5539 - val_accuracy: 0.9010\n",
            "Epoch 16/50\n",
            "834/834 [==============================] - 5s 6ms/step - loss: 0.0344 - accuracy: 0.9910 - val_loss: 1.3195 - val_accuracy: 0.8990\n",
            "Epoch 17/50\n",
            "834/834 [==============================] - 5s 6ms/step - loss: 0.0312 - accuracy: 0.9920 - val_loss: 1.2228 - val_accuracy: 0.9040\n",
            "Epoch 18/50\n",
            "834/834 [==============================] - 5s 6ms/step - loss: 0.0218 - accuracy: 0.9941 - val_loss: 1.2447 - val_accuracy: 0.9070\n",
            "Epoch 19/50\n",
            "834/834 [==============================] - 5s 6ms/step - loss: 0.0197 - accuracy: 0.9941 - val_loss: 1.3166 - val_accuracy: 0.9080\n",
            "Epoch 20/50\n",
            "834/834 [==============================] - 5s 6ms/step - loss: 0.0166 - accuracy: 0.9946 - val_loss: 1.1227 - val_accuracy: 0.9110\n",
            "Epoch 21/50\n",
            "834/834 [==============================] - 5s 6ms/step - loss: 0.0398 - accuracy: 0.9900 - val_loss: 1.2029 - val_accuracy: 0.8990\n",
            "Epoch 22/50\n",
            "834/834 [==============================] - 5s 6ms/step - loss: 0.0180 - accuracy: 0.9954 - val_loss: 1.2906 - val_accuracy: 0.9020\n",
            "Epoch 23/50\n",
            "834/834 [==============================] - 5s 6ms/step - loss: 0.0287 - accuracy: 0.9909 - val_loss: 1.7103 - val_accuracy: 0.8870\n",
            "Epoch 24/50\n",
            "834/834 [==============================] - 5s 6ms/step - loss: 0.0312 - accuracy: 0.9917 - val_loss: 1.2304 - val_accuracy: 0.9020\n",
            "Epoch 25/50\n",
            "834/834 [==============================] - 5s 6ms/step - loss: 0.0217 - accuracy: 0.9948 - val_loss: 0.8924 - val_accuracy: 0.9060\n",
            "Epoch 26/50\n",
            "834/834 [==============================] - 5s 6ms/step - loss: 0.0231 - accuracy: 0.9939 - val_loss: 1.3684 - val_accuracy: 0.9000\n",
            "Epoch 27/50\n",
            "834/834 [==============================] - 5s 6ms/step - loss: 0.0297 - accuracy: 0.9914 - val_loss: 1.3910 - val_accuracy: 0.9090\n",
            "Epoch 28/50\n",
            "834/834 [==============================] - 5s 6ms/step - loss: 0.0201 - accuracy: 0.9950 - val_loss: 1.3260 - val_accuracy: 0.9120\n",
            "Epoch 29/50\n",
            "834/834 [==============================] - 5s 6ms/step - loss: 0.0258 - accuracy: 0.9939 - val_loss: 1.1697 - val_accuracy: 0.9120\n",
            "Epoch 30/50\n",
            "834/834 [==============================] - 5s 6ms/step - loss: 0.0254 - accuracy: 0.9940 - val_loss: 1.1928 - val_accuracy: 0.9100\n",
            "Epoch 31/50\n",
            "834/834 [==============================] - 5s 6ms/step - loss: 0.0277 - accuracy: 0.9926 - val_loss: 1.4757 - val_accuracy: 0.8960\n",
            "Epoch 32/50\n",
            "834/834 [==============================] - 5s 6ms/step - loss: 0.0172 - accuracy: 0.9944 - val_loss: 1.4343 - val_accuracy: 0.9070\n",
            "Epoch 33/50\n",
            "834/834 [==============================] - 5s 6ms/step - loss: 0.0356 - accuracy: 0.9917 - val_loss: 1.2033 - val_accuracy: 0.9150\n",
            "Epoch 34/50\n",
            "834/834 [==============================] - 5s 6ms/step - loss: 0.0097 - accuracy: 0.9958 - val_loss: 1.2375 - val_accuracy: 0.9140\n",
            "Epoch 35/50\n",
            "834/834 [==============================] - 5s 6ms/step - loss: 0.0190 - accuracy: 0.9942 - val_loss: 1.0886 - val_accuracy: 0.9160\n",
            "Epoch 36/50\n",
            "834/834 [==============================] - 5s 6ms/step - loss: 0.0221 - accuracy: 0.9941 - val_loss: 1.0115 - val_accuracy: 0.9120\n",
            "Epoch 37/50\n",
            "834/834 [==============================] - 5s 6ms/step - loss: 0.0169 - accuracy: 0.9948 - val_loss: 1.5146 - val_accuracy: 0.9090\n",
            "Epoch 38/50\n",
            "834/834 [==============================] - 5s 6ms/step - loss: 0.0378 - accuracy: 0.9923 - val_loss: 1.4841 - val_accuracy: 0.9060\n",
            "Epoch 39/50\n",
            "834/834 [==============================] - 5s 6ms/step - loss: 0.0178 - accuracy: 0.9947 - val_loss: 1.2997 - val_accuracy: 0.9160\n",
            "Epoch 40/50\n",
            "834/834 [==============================] - 5s 6ms/step - loss: 0.0173 - accuracy: 0.9951 - val_loss: 1.3682 - val_accuracy: 0.9100\n",
            "Epoch 41/50\n",
            "834/834 [==============================] - 5s 6ms/step - loss: 0.0275 - accuracy: 0.9937 - val_loss: 1.2438 - val_accuracy: 0.9110\n",
            "Epoch 42/50\n",
            "834/834 [==============================] - 5s 6ms/step - loss: 0.0207 - accuracy: 0.9931 - val_loss: 1.3143 - val_accuracy: 0.9090\n",
            "Epoch 43/50\n",
            "834/834 [==============================] - 5s 6ms/step - loss: 0.0273 - accuracy: 0.9938 - val_loss: 1.3257 - val_accuracy: 0.9080\n",
            "Epoch 44/50\n",
            "834/834 [==============================] - 5s 6ms/step - loss: 0.0204 - accuracy: 0.9943 - val_loss: 1.3120 - val_accuracy: 0.9010\n",
            "Epoch 45/50\n",
            "834/834 [==============================] - 5s 6ms/step - loss: 0.0099 - accuracy: 0.9965 - val_loss: 1.4004 - val_accuracy: 0.9180\n",
            "Epoch 46/50\n",
            "834/834 [==============================] - 5s 6ms/step - loss: 0.0220 - accuracy: 0.9951 - val_loss: 1.1835 - val_accuracy: 0.9130\n",
            "Epoch 47/50\n",
            "834/834 [==============================] - 5s 6ms/step - loss: 0.0178 - accuracy: 0.9950 - val_loss: 1.1668 - val_accuracy: 0.9030\n",
            "Epoch 48/50\n",
            "834/834 [==============================] - 5s 6ms/step - loss: 0.0264 - accuracy: 0.9930 - val_loss: 0.9071 - val_accuracy: 0.9150\n",
            "Epoch 49/50\n",
            "834/834 [==============================] - 5s 6ms/step - loss: 0.0128 - accuracy: 0.9946 - val_loss: 0.9410 - val_accuracy: 0.9230\n",
            "Epoch 50/50\n",
            "834/834 [==============================] - 5s 6ms/step - loss: 0.0247 - accuracy: 0.9935 - val_loss: 1.4543 - val_accuracy: 0.9110\n"
          ]
        }
      ]
    },
    {
      "cell_type": "code",
      "source": [
        "model.evaluate(xtest, ytest)"
      ],
      "metadata": {
        "colab": {
          "base_uri": "https://localhost:8080/"
        },
        "id": "4lH3MEvgoLdL",
        "outputId": "979a68eb-79d7-45d5-eea5-e65fa9e77449"
      },
      "execution_count": 124,
      "outputs": [
        {
          "output_type": "stream",
          "name": "stdout",
          "text": [
            "32/32 [==============================] - 0s 6ms/step - loss: 1.4543 - accuracy: 0.9110\n"
          ]
        },
        {
          "output_type": "execute_result",
          "data": {
            "text/plain": [
              "[1.454258680343628, 0.9110000133514404]"
            ]
          },
          "metadata": {},
          "execution_count": 124
        }
      ]
    },
    {
      "cell_type": "code",
      "source": [
        "model.save(\"alpha_pred_v91.h5\")"
      ],
      "metadata": {
        "id": "SNYe6Y1szx6p"
      },
      "execution_count": 125,
      "outputs": []
    },
    {
      "cell_type": "code",
      "source": [
        "pred = model.predict(xtest)"
      ],
      "metadata": {
        "id": "fXAZNeIJqhcW"
      },
      "execution_count": 126,
      "outputs": []
    },
    {
      "cell_type": "code",
      "source": [
        "ch = np.argmax(pred[10])\n",
        "ch"
      ],
      "metadata": {
        "colab": {
          "base_uri": "https://localhost:8080/"
        },
        "id": "z6A7Rqe2yhfg",
        "outputId": "d579a91b-09a7-44f6-8d36-fafe4a119a1d"
      },
      "execution_count": 127,
      "outputs": [
        {
          "output_type": "execute_result",
          "data": {
            "text/plain": [
              "4"
            ]
          },
          "metadata": {},
          "execution_count": 127
        }
      ]
    },
    {
      "cell_type": "code",
      "source": [
        "alpha[ch]"
      ],
      "metadata": {
        "colab": {
          "base_uri": "https://localhost:8080/",
          "height": 35
        },
        "id": "VqXRm8nbze5E",
        "outputId": "1260e02f-4df6-4ce6-da21-101add121a73"
      },
      "execution_count": 128,
      "outputs": [
        {
          "output_type": "execute_result",
          "data": {
            "text/plain": [
              "'e'"
            ],
            "application/vnd.google.colaboratory.intrinsic+json": {
              "type": "string"
            }
          },
          "metadata": {},
          "execution_count": 128
        }
      ]
    },
    {
      "cell_type": "code",
      "source": [],
      "metadata": {
        "id": "vzjmTNyzyj-b"
      },
      "execution_count": 128,
      "outputs": []
    },
    {
      "cell_type": "code",
      "source": [
        "plt.imshow(xtest[10])"
      ],
      "metadata": {
        "colab": {
          "base_uri": "https://localhost:8080/",
          "height": 285
        },
        "id": "LCW-zMBKy1zi",
        "outputId": "1f08cc0e-f5e3-43e3-d003-0dfc057705ce"
      },
      "execution_count": 129,
      "outputs": [
        {
          "output_type": "execute_result",
          "data": {
            "text/plain": [
              "<matplotlib.image.AxesImage at 0x7f352a0915d0>"
            ]
          },
          "metadata": {},
          "execution_count": 129
        },
        {
          "output_type": "display_data",
          "data": {
            "text/plain": [
              "<Figure size 432x288 with 1 Axes>"
            ],
            "image/png": "[encoded data removed]"
          },
          "metadata": {
            "needs_background": "light"
          }
        }
      ]
    },
    {
      "cell_type": "markdown",
      "source": [
        "# Confusion Matrix"
      ],
      "metadata": {
        "id": "YJ5sQFFkNZ-M"
      }
    },
    {
      "cell_type": "code",
      "source": [
        "y_pred = y_pred = [alpha[np.argmax(i)] for i in pred] "
      ],
      "metadata": {
        "id": "BEcQPnypOHA5"
      },
      "execution_count": 130,
      "outputs": []
    },
    {
      "cell_type": "code",
      "source": [
        "y_test = [alpha[i] for i in ytest] "
      ],
      "metadata": {
        "id": "GVdywfSaQtrh"
      },
      "execution_count": 131,
      "outputs": []
    },
    {
      "cell_type": "code",
      "source": [
        "import matplotlib.pyplot as plt\n",
        "from sklearn.metrics import confusion_matrix, plot_confusion_matrix"
      ],
      "metadata": {
        "id": "pMReevpxzELe"
      },
      "execution_count": 132,
      "outputs": []
    },
    {
      "cell_type": "code",
      "source": [
        "M = confusion_matrix(y_test, y_pred)"
      ],
      "metadata": {
        "id": "OMdcOLmkznGM"
      },
      "execution_count": 133,
      "outputs": []
    },
    {
      "cell_type": "code",
      "source": [
        "import seaborn as  sns"
      ],
      "metadata": {
        "id": "r5XjVXnpN7Z3"
      },
      "execution_count": 134,
      "outputs": []
    },
    {
      "cell_type": "code",
      "source": [
        "from sklearn.metrics import confusion_matrix\n",
        "conf_mat = confusion_matrix(y_test, y_pred)\n",
        "plt.figure(figsize=(15,15))\n",
        "sns.heatmap(conf_mat, square=True, annot=True, cmap='Blues', fmt='d', cbar=True, )"
      ],
      "metadata": {
        "colab": {
          "base_uri": "https://localhost:8080/",
          "height": 869
        },
        "id": "arGqb3LtOVLq",
        "outputId": "9488c531-1d4b-4521-96dd-f516b9a8d022"
      },
      "execution_count": 135,
      "outputs": [
        {
          "output_type": "execute_result",
          "data": {
            "text/plain": [
              "<matplotlib.axes._subplots.AxesSubplot at 0x7f360c0aec50>"
            ]
          },
          "metadata": {},
          "execution_count": 135
        },
        {
          "output_type": "display_data",
          "data": {
            "text/plain": [
              "<Figure size 1080x1080 with 2 Axes>"
            ],
            "image/png": "[encoded data removed]"
          },
          "metadata": {
            "needs_background": "light"
          }
        }
      ]
    },
    {
      "cell_type": "code",
      "source": [],
      "metadata": {
        "id": "WASzP2MAOW-V"
      },
      "execution_count": 135,
      "outputs": []
    }
  ]
}